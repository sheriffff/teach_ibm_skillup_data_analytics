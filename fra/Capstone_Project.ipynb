{
 "cells": [
  {
   "cell_type": "markdown",
   "metadata": {},
   "source": [
    "<center><h1>Capstone Project</h1></center>\n",
    "<center><h3>IBM SkillsBuild Europe Delivery - Data Analytics</h3></center>"
   ]
  },
  {
   "cell_type": "markdown",
   "metadata": {},
   "source": [
    "# Pré-requis\n",
    "\n",
    "* Connaissance de Python, Power BI ou Tableau\n",
    "* Compréhension du nettoyage des données\n",
    "* Comprendre la visualisation des données\n",
    "\n",
    "\n",
    "\n",
    "\n",
    "\n",
    "\n",
    "\n",
    "#### Niveau d'exercice : intermédiaire\n",
    "\n",
    "\n",
    "\n",
    "\n",
    "\n",
    "\n",
    "\n",
    "#### Durée : environ 3 heures\n",
    "\n",
    "\n",
    "\n",
    "\n",
    "\n",
    "\n",
    "\n",
    "#### Tous les exercices sont nécessaires pour mener à bien ce projet.\n",
    "\n",
    "\n",
    "\n",
    "\n",
    "\n",
    "\n",
    "\n",
    "Veuillez retourner ce dossier avec les réponses à frenchtrainer@skillup.online avant le 22 décembre 2022."
   ]
  },
  {
   "cell_type": "markdown",
   "metadata": {},
   "source": [
    "#### Analyse des données d'Airbnb :\n",
    "\n",
    "\n",
    "\n",
    "\n",
    "\n",
    "\n",
    "\n",
    "#### Objectif :\n",
    "\n",
    "\n",
    "\n",
    "\n",
    "\n",
    "\n",
    "\n",
    "Dans cet exercice, vous allez effectuer des analyses de données sur un ensemble de données ouvertes provenant d'Airbnb. Parmi les tâches, citons\n",
    "\n",
    "\n",
    "\n",
    "- Nettoyage des données.\n",
    "\n",
    "\n",
    "\n",
    "- Transformation des données\n",
    "\n",
    "\n",
    "\n",
    "- Visualisation des données.\n",
    "\n",
    "\n",
    "\n",
    "\n",
    "\n",
    "\n",
    "\n",
    "#### Aperçu des données Airbnb :\n",
    "\n",
    "\n",
    "\n",
    "\n",
    "\n",
    "\n",
    "\n",
    "Les principaux critères des personnes qui visitent de nouveaux lieux sont un hébergement et une alimentation raisonnables. Airbnb (Air-Bed-Breakfast) est une place de marché en ligne créée pour répondre à ce besoin des gens en louant leur maison à court terme. Ils offrent ce service à un prix relativement inférieur à celui des hôtels. En outre, des personnes du monde entier préfèrent le service chaleureux et abordable qu'ils offrent. Ils offrent des services dans différents lieux géographiques\n",
    "\n",
    "\n",
    "\n",
    "\n",
    "\n",
    "\n",
    "\n",
    "#### Source de données\n",
    "\n",
    "\n",
    "\n",
    "\n",
    "\n",
    "\n",
    "\n",
    "Le jeu de données de cette évaluation est disponible au lien suivant : https://www.kaggle.com/datasets/arianazmoudeh/airbnbopendata.\n",
    "\n",
    "\n",
    "\n",
    "\n",
    "\n",
    "\n",
    "\n",
    "Ce jeu de données contient des hébergements avec leurs informations : quartier, type de chambre, prix, disponibilité, avis, frais de service, politique d'annulation et règlement intérieur.\n",
    "\n",
    "\n",
    "\n",
    "\n",
    "\n",
    "\n",
    "\n",
    "Nous vous souhaitons le meilleur pour votre voyage d'analyse de données Airbnb !"
   ]
  },
  {
   "cell_type": "markdown",
   "metadata": {},
   "source": [
    "## Tâche 1 : chargement des données (Python)\n",
    "\n",
    "\n",
    "\n",
    "\n",
    "\n",
    "\n",
    "\n",
    "1. Lire le fichier csv et le charger dans un dataframe pandas.\n",
    "\n",
    "\n",
    "\n",
    "2. affichez les cinq premières lignes de votre cadre de données.\n",
    "\n",
    "\n",
    "\n",
    "3. afficher les types de données des colonnes."
   ]
  },
  {
   "cell_type": "code",
   "execution_count": null,
   "metadata": {},
   "outputs": [],
   "source": [
    "## Lire le fichier csv\n"
   ]
  },
  {
   "cell_type": "code",
   "execution_count": null,
   "metadata": {},
   "outputs": [],
   "source": [
    "## Afficher les 5 premières lignes\n"
   ]
  },
  {
   "cell_type": "code",
   "execution_count": null,
   "metadata": {},
   "outputs": [],
   "source": [
    "## Afficher les types de données\n"
   ]
  },
  {
   "cell_type": "markdown",
   "metadata": {},
   "source": [
    "## Tâche 2a : nettoyage des données (tout outil)\n",
    "\n",
    "\n",
    "\n",
    "\n",
    "\n",
    "\n",
    "\n",
    "1. Supprimez certaines des colonnes indésirables. Il s'agit de `host id`, `id`, `country` et `country code` de l'ensemble de données.\n",
    "\n",
    "\n",
    "\n",
    "2. Indiquez la raison pour laquelle vous n'avez pas inclus ces colonnes dans votre analyse des données.\n",
    "\n",
    "\n",
    "\n",
    "\n",
    "\n",
    "\n",
    "\n",
    "Si vous utilisez Python pour cet exercice, incluez le code dans les cellules ci-dessous. Si vous utilisez un autre outil, incluez des captures d'écran avant et après la suppression des colonnes."
   ]
  },
  {
   "cell_type": "code",
   "execution_count": null,
   "metadata": {},
   "outputs": [],
   "source": []
  },
  {
   "cell_type": "code",
   "execution_count": null,
   "metadata": {},
   "outputs": [],
   "source": []
  },
  {
   "cell_type": "code",
   "execution_count": null,
   "metadata": {},
   "outputs": [],
   "source": []
  },
  {
   "cell_type": "markdown",
   "metadata": {},
   "source": [
    "## Tâche 2b : Nettoyage des données (Python)\n",
    "\n",
    "\n",
    "\n",
    "\n",
    "\n",
    "\n",
    "\n",
    "- Vérifier les valeurs nulles et afficher le compte dans l'ordre croissant. **Si les valeurs sont manquantes, imputez les valeurs comme bon vous semble**.\n",
    "\n",
    "\n",
    "\n",
    "- Vérifiez les valeurs en double et, le cas échéant, supprimez-les.\n",
    "\n",
    "\n",
    "\n",
    "- Affiche le nombre total d'enregistrements avant et après la suppression des doublons."
   ]
  },
  {
   "cell_type": "code",
   "execution_count": null,
   "metadata": {},
   "outputs": [],
   "source": [
    "## Vérifier les valeurs nulles et afficher le compte par ordre croissant.\n",
    "\n",
    "\n",
    "\n",
    "\n",
    "\n",
    "\n"
   ]
  },
  {
   "cell_type": "code",
   "execution_count": null,
   "metadata": {},
   "outputs": [],
   "source": [
    "## Vérifier les valeurs dupliquées et, le cas échéant, les supprimer.\n",
    "\n",
    "\n",
    "\n",
    "\n",
    "\n",
    "\n"
   ]
  },
  {
   "cell_type": "code",
   "execution_count": null,
   "metadata": {},
   "outputs": [],
   "source": [
    "## Afficher le nombre total d'enregistrements avant et après la suppression des doublons.\n",
    "\n",
    "\n",
    "\n",
    "\n",
    "\n",
    "\n"
   ]
  },
  {
   "cell_type": "markdown",
   "metadata": {},
   "source": [
    "## Tâche 3 : transformation des données (tout outil)\n",
    "- Renommez la colonne `availability 365` en `days_booked`\n",
    "\n",
    "- Convertir tous les noms de colonnes en minuscules et remplacer les espaces dans les noms de colonnes par un trait de soulignement \"_\".\n",
    "\n",
    "- Supprimez le signe dollar et la virgule des colonnes `price` et `service_fee`. Si nécessaire, convertissez ces deux colonnes dans le type de données approprié.\n",
    "\n",
    "\n",
    "Si vous utilisez Python pour cet exercice, veuillez inclure le code dans les cellules ci-dessous. Si vous utilisez un autre outil, veuillez inclure des captures d'écran de votre travail."
   ]
  },
  {
   "cell_type": "code",
   "execution_count": null,
   "metadata": {},
   "outputs": [],
   "source": [
    "## Renommer la colonne.\n",
    "\n",
    "\n",
    "\n",
    "\n",
    "\n"
   ]
  },
  {
   "cell_type": "code",
   "execution_count": null,
   "metadata": {},
   "outputs": [],
   "source": [
    "## Convertir tous les noms de colonnes en minuscules et remplacer les espaces par un trait de soulignement \"_\".\n",
    "\n",
    "\n",
    "\n"
   ]
  },
  {
   "cell_type": "code",
   "execution_count": null,
   "metadata": {},
   "outputs": [],
   "source": [
    "## Enlevez le signe dollar et la virgule des colonnes. Si nécessaire, convertissez ces deux colonnes dans le type de données approprié.\n",
    "\n",
    "\n",
    "\n"
   ]
  },
  {
   "cell_type": "markdown",
   "metadata": {},
   "source": [
    "### Tâche 4 : Analyse exploratoire des données (tout outil)\n",
    "\n",
    "\n",
    "\n",
    "\n",
    "\n",
    "\n",
    "\n",
    "- Indiquez le nombre de types de pièces disponibles dans l'ensemble de données.\n",
    "\n",
    "\n",
    "\n",
    "- Quel type de chambre a la politique d'annulation la plus stricte ?\n",
    "\n",
    "\n",
    "\n",
    "- Indiquez le prix moyen par quartier et mettez en évidence le quartier le plus cher à louer.\n",
    "\n",
    "\n",
    "\n",
    "\n",
    "\n",
    "\n",
    "\n",
    "Si vous utilisez Python pour cet exercice, veuillez inclure le code dans les cellules ci-dessous. Si vous utilisez un autre outil, veuillez inclure des captures d'écran de votre travail."
   ]
  },
  {
   "cell_type": "code",
   "execution_count": null,
   "metadata": {},
   "outputs": [],
   "source": [
    "## Liste des différents types de chambres disponibles sur Airbnb\n"
   ]
  },
  {
   "cell_type": "code",
   "execution_count": null,
   "metadata": {},
   "outputs": [],
   "source": [
    "## Quel type de chambre est soumis à une politique d'annulation plus stricte ?\n"
   ]
  },
  {
   "cell_type": "code",
   "execution_count": null,
   "metadata": {},
   "outputs": [],
   "source": [
    "## Lister les prix par quartier et mentionner également quel groupe de quartiers est le plus cher pour les loyers.\n"
   ]
  },
  {
   "cell_type": "markdown",
   "metadata": {},
   "source": [
    "## Tâche 5a : visualisation de données (tout outil)\n",
    "\n",
    "\n",
    "\n",
    "\n",
    "\n",
    "\n",
    "\n",
    "- Créez un graphique à barres horizontales pour montrer les 10 quartiers les plus chers de l'ensemble de données.\n",
    "    - Créez un autre graphique avec les 10 quartiers les moins chers de l'ensemble de données.\n",
    "\n",
    "\n",
    "\n",
    "- Créez un graphique boxplot montrant la distribution des prix de toutes les annonces divisées par type de chambre.\n",
    "\n",
    "\n",
    "\n",
    "\n",
    "\n",
    "Si vous utilisez Python pour cet exercice, incluez le code dans les cellules ci-dessous. Si vous utilisez un autre outil, veuillez inclure des captures d'écran de votre travail."
   ]
  },
  {
   "cell_type": "code",
   "execution_count": null,
   "metadata": {},
   "outputs": [],
   "source": []
  },
  {
   "cell_type": "code",
   "execution_count": null,
   "metadata": {},
   "outputs": [],
   "source": []
  },
  {
   "cell_type": "code",
   "execution_count": null,
   "metadata": {},
   "outputs": [],
   "source": []
  },
  {
   "cell_type": "code",
   "execution_count": null,
   "metadata": {},
   "outputs": [],
   "source": []
  },
  {
   "cell_type": "markdown",
   "metadata": {},
   "source": [
    "## Tâche 5b : visualisation des données (tout outil)\n",
    "\n",
    "- Créez un diagramme de dispersion (scatterplot) pour illustrer la relation entre les frais de nettoyage et le prix de la chambre et notez le type de corrélation que vous observez, le cas échéant.\n",
    "\n",
    "\n",
    "- Créez un graphique linéaire pour montrer le nombre total d'inscriptions par `Construction year`\n",
    "\n",
    "\n",
    "Si vous utilisez Python pour cet exercice, veuillez inclure le code dans les cellules ci-dessous. Si vous utilisez un autre outil, veuillez inclure des captures d'écran de votre travail."
   ]
  },
  {
   "cell_type": "code",
   "execution_count": null,
   "metadata": {},
   "outputs": [],
   "source": []
  },
  {
   "cell_type": "markdown",
   "metadata": {},
   "source": [
    "## Tâche 5c : visualisation des données (tout outil)\n",
    "\n",
    "- Créez une visualisation de données de votre choix en utilisant l'une des colonnes d'examen, seule ou en combinaison avec une autre colonne.\n",
    "\n",
    "- Créez une visualisation pour comparer au moins deux variables différentes entre les hôtes vérifiés et non verifiés.\n",
    "\n",
    "\n",
    "\n",
    "Si vous utilisez Python pour cet exercice, incluez le code dans les cellules ci-dessous. Si vous utilisez un autre outil, incluez des captures d'écran de votre travail."
   ]
  },
  {
   "cell_type": "code",
   "execution_count": null,
   "metadata": {},
   "outputs": [],
   "source": []
  },
  {
   "cell_type": "code",
   "execution_count": null,
   "metadata": {},
   "outputs": [],
   "source": []
  },
  {
   "cell_type": "code",
   "execution_count": null,
   "metadata": {},
   "outputs": [],
   "source": []
  }
 ],
 "metadata": {
  "kernelspec": {
   "display_name": "Python 3",
   "language": "python",
   "name": "python3"
  },
  "language_info": {
   "codemirror_mode": {
    "name": "ipython",
    "version": 3
   },
   "file_extension": ".py",
   "mimetype": "text/x-python",
   "name": "python",
   "nbconvert_exporter": "python",
   "pygments_lexer": "ipython3",
   "version": "3.8.10"
  },
  "nteract": {
   "version": "0.28.0"
  },
  "toc": {
   "base_numbering": 1,
   "nav_menu": {},
   "number_sections": false,
   "sideBar": true,
   "skip_h1_title": true,
   "title_cell": "Table of Contents",
   "title_sidebar": "Contents",
   "toc_cell": false,
   "toc_position": {},
   "toc_section_display": true,
   "toc_window_display": false
  }
 },
 "nbformat": 4,
 "nbformat_minor": 5
}
