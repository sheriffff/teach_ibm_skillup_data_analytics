{
 "cells": [
  {
   "cell_type": "markdown",
   "metadata": {},
   "source": [
    "<center><h1>Capstone Project</h1></center>\n",
    "<center><h3>IBM SkillsBuild Europe Delivery - Data Analytics</h3></center>"
   ]
  },
  {
   "cell_type": "markdown",
   "metadata": {},
   "source": [
    "# Pre-requisitos\n",
    "\n",
    "\n",
    "\n",
    "* Conocimientos de Python, Power BI o Tableau\n",
    "\n",
    "* Comprensión de la limpieza de datos\n",
    "\n",
    "* Comprensión de la visualización de datos\n",
    "\n",
    "\n",
    "\n",
    "#### Nivel de ejercicio: Intermedio\n",
    "\n",
    "\n",
    "\n",
    "#### Duración: aproximadamente 3 horas\n",
    "\n",
    "\n",
    "\n",
    "#### Todos los ejercicios son necesarios para completar con éxito este proyecto\n",
    "\n",
    "\n",
    "\n",
    "Por favor, devuelva este archivo con las respuestas a spanishtrainer@skillup.online antes del 23 de diciembre de 2022."
   ]
  },
  {
   "cell_type": "markdown",
   "metadata": {},
   "source": [
    "### Análisis de datos de Airbnb:\n",
    "\n",
    "\n",
    "\n",
    "#### Objetivo:\n",
    "\n",
    "\n",
    "\n",
    "En este ejercicio, realizarás Data Analytics sobre un conjunto de datos abiertos procedentes de Airbnb. Algunas de las tareas incluyen\n",
    "\n",
    "- Limpieza de datos.\n",
    "\n",
    "- Transformación de datos\n",
    "\n",
    "- Visualización de datos.\n",
    "\n",
    "\n",
    "\n",
    "#### Visión general de los datos de Airbnb:\n",
    "\n",
    "\n",
    "\n",
    "Los principales criterios de la gente cuando visita nuevos lugares son un alojamiento y una comida razonables. Airbnb (Air-Bed-Breakfast) es un mercado en línea creado para satisfacer esta necesidad de la gente alquilando sus casas por un corto plazo. Ofrecen este servicio a un precio relativamente inferior al de los hoteles. Además, personas de todo el mundo prefieren el servicio hogareño y económico que ofrecen. Ofrecen servicios en diversas ubicaciones geográficas\n",
    "\n",
    "\n",
    "\n",
    "#### Fuente de datos\n",
    "\n",
    "\n",
    "\n",
    "Puede obtener el conjunto de datos de esta evaluación en el siguiente enlace: https://www.kaggle.com/datasets/arianazmoudeh/airbnbopendata\n",
    "\n",
    "\n",
    "\n",
    "Este conjunto de datos contiene alojamientos con su información: el barrio, el tipo de habitación, el precio, la disponibilidad, las opiniones, los gastos de servicio, la política de cancelación y las normas de uso de la casa.\n",
    "\n",
    "\n",
    "\n",
    "¡Te deseamos lo mejor en su viaje de análisis de datos sobre Airbnb!"
   ]
  },
  {
   "cell_type": "markdown",
   "metadata": {},
   "source": [
    "## Tarea 1: Carga de datos (Python)\n",
    "\n",
    "\n",
    "\n",
    "1. Leer el fichero csv y cargarlo en un dataframe de pandas.\n",
    "\n",
    "2. Visualiza las cinco primeras filas de tu dataframe.\n",
    "\n",
    "3. Visualice los tipos de datos de las columnas."
   ]
  },
  {
   "cell_type": "code",
   "execution_count": null,
   "metadata": {},
   "outputs": [],
   "source": [
    "## Leer el archivo csv\n"
   ]
  },
  {
   "cell_type": "code",
   "execution_count": null,
   "metadata": {},
   "outputs": [],
   "source": [
    "## Mostrar las 5 primeras filas\n"
   ]
  },
  {
   "cell_type": "code",
   "execution_count": null,
   "metadata": {},
   "outputs": [],
   "source": [
    "## Mostrar los tipos de datos\n"
   ]
  },
  {
   "cell_type": "markdown",
   "metadata": {},
   "source": [
    "## Tarea 2a: Limpieza de datos (cualquier herramienta)\n",
    "\n",
    "\n",
    "\n",
    "1. Elimine algunas de las columnas no deseadas. Entre ellas se incluyen `host id`, `id`, `country` y `country code` del conjunto de datos.\n",
    "\n",
    "2. Indique la razón de no incluir estas columnas en su análisis de datos.\n",
    "\n",
    "\n",
    "\n",
    "Si utiliza Python para este ejercicio, incluya el código en las celdas siguientes. Si utiliza cualquier otra herramienta, incluya capturas de pantalla antes y después de eliminar las columnas."
   ]
  },
  {
   "cell_type": "code",
   "execution_count": null,
   "metadata": {},
   "outputs": [],
   "source": []
  },
  {
   "cell_type": "code",
   "execution_count": null,
   "metadata": {},
   "outputs": [],
   "source": []
  },
  {
   "cell_type": "code",
   "execution_count": null,
   "metadata": {},
   "outputs": [],
   "source": []
  },
  {
   "cell_type": "markdown",
   "metadata": {},
   "source": [
    "## Tarea 2b: Limpieza de datos (Python)\n",
    "\n",
    "\n",
    "\n",
    "- Comprobar si hay valores nulos y mostrar el recuento en orden ascendente. **Si faltan valores, imputa los valores como consideres**\n",
    "\n",
    "- Comprobar si hay valores duplicados y, si los hay, eliminarlos.\n",
    "\n",
    "- Mostrar el número total de registros antes y después de eliminar los duplicados."
   ]
  },
  {
   "cell_type": "code",
   "execution_count": null,
   "metadata": {},
   "outputs": [],
   "source": [
    "## Comprobar si hay valores nulos y mostrar el recuento en orden ascendente.\n",
    "\n",
    "\n",
    "\n"
   ]
  },
  {
   "cell_type": "code",
   "execution_count": null,
   "metadata": {},
   "outputs": [],
   "source": [
    "## Comprobar si hay valores duplicados y, si los hay, eliminarlos.\n",
    "\n",
    "\n",
    "\n"
   ]
  },
  {
   "cell_type": "code",
   "execution_count": null,
   "metadata": {},
   "outputs": [],
   "source": [
    "## Mostrar el número total de registros antes y después de eliminar los duplicados.\n",
    "\n",
    "\n",
    "\n"
   ]
  },
  {
   "cell_type": "markdown",
   "metadata": {},
   "source": [
    "## Tarea 3: Transformación de datos (Cualquier herramienta)\n",
    "\n",
    "\n",
    "\n",
    "\n",
    "\n",
    "- Cambie el nombre de la columna `availability 365` a `days_booked`\n",
    "\n",
    "- Convierta todos los nombres de columna a minúsculas y sustituya los espacios en los nombres de columna por un guión bajo \"_\".\n",
    "\n",
    "- Elimine el signo del dólar y la coma de las columnas `price` and `service_fee`. Si es necesario, convierta estas dos columnas al tipo de datos adecuado.\n",
    "\n",
    "\n",
    "\n",
    "Si utiliza Python para este ejercicio, por favor incluya el código en las celdas de abajo. Si utiliza cualquier otra herramienta, incluya capturas de pantalla de su trabajo."
   ]
  },
  {
   "cell_type": "code",
   "execution_count": null,
   "metadata": {},
   "outputs": [],
   "source": [
    "## Renombra la columna.\n",
    "\n",
    "\n",
    "\n",
    "\n",
    "\n",
    "\n",
    "\n",
    "\n"
   ]
  },
  {
   "cell_type": "code",
   "execution_count": null,
   "metadata": {},
   "outputs": [],
   "source": [
    "## Convierte todos los nombres de columna a minúsculas y sustituye los espacios por un guión bajo \"_\"\n",
    "\n",
    "\n",
    "\n",
    "\n",
    "\n",
    "\n"
   ]
  },
  {
   "cell_type": "code",
   "execution_count": null,
   "metadata": {},
   "outputs": [],
   "source": [
    "## Elimine el signo de dólar y la coma de las columnas. Si es necesario, convierta estas dos columnas al tipo de datos adecuado.\n",
    "\n",
    "\n",
    "\n",
    "\n",
    "\n",
    "\n"
   ]
  },
  {
   "cell_type": "markdown",
   "metadata": {},
   "source": [
    "### Tarea 4: Análisis exploratorio de datos (Cualquier herramienta)\n",
    "\n",
    "\n",
    "\n",
    "- Enumere el número de tipos de habitaciones disponibles en el conjunto de datos.\n",
    "\n",
    "- ¿Qué tipo de habitación tiene la política de cancelación más estricta?\n",
    "\n",
    "- Enumere el precio medio por barrio y destaque el barrio más caro para alquilar.\n",
    "\n",
    "\n",
    "\n",
    "Si utiliza Python para este ejercicio, por favor incluya el código en las celdas de abajo. Si utiliza cualquier otra herramienta, incluya capturas de pantalla de su trabajo."
   ]
  },
  {
   "cell_type": "code",
   "execution_count": null,
   "metadata": {},
   "outputs": [],
   "source": [
    "## Lista de los distintos tipos de habitaciones disponibles en Airbnb\n"
   ]
  },
  {
   "cell_type": "code",
   "execution_count": null,
   "metadata": {},
   "outputs": [],
   "source": [
    "## Qué tipo de habitación se adhiere a una política de cancelación más estricta\n"
   ]
  },
  {
   "cell_type": "code",
   "execution_count": null,
   "metadata": {},
   "outputs": [],
   "source": [
    "## Enumere los precios por barrio y mencione también cuál es el grupo de barrios más caro para los alquileres\n"
   ]
  },
  {
   "cell_type": "markdown",
   "metadata": {},
   "source": [
    "## Tarea 5a: Visualización de datos (Cualquier herramienta)\n",
    "\n",
    "\n",
    "\n",
    "- Crea un gráfico de barras horizontales para mostrar los 10 barrios más caros del conjunto de datos.\n",
    "\n",
    "    - Crea otro gráfico con los 10 barrios más baratos del conjunto de datos.\n",
    "\n",
    "- Crea un gráfico boxplot que muestre la distribución de precios de todos los anuncios dividida por tipo de habitación.\n",
    "\n",
    "\n",
    "Si utiliza Python para este ejercicio, incluya el código en las celdas siguientes. Si utiliza cualquier otra herramienta, incluya capturas de pantalla de su trabajo."
   ]
  },
  {
   "cell_type": "code",
   "execution_count": null,
   "metadata": {},
   "outputs": [],
   "source": []
  },
  {
   "cell_type": "code",
   "execution_count": null,
   "metadata": {},
   "outputs": [],
   "source": []
  },
  {
   "cell_type": "code",
   "execution_count": null,
   "metadata": {},
   "outputs": [],
   "source": []
  },
  {
   "cell_type": "code",
   "execution_count": null,
   "metadata": {},
   "outputs": [],
   "source": []
  },
  {
   "cell_type": "markdown",
   "metadata": {},
   "source": [
    "## Tarea 5b: Visualización de datos (Cualquier herramienta)\n",
    "\n",
    "\n",
    "\n",
    "- Crea un scatter plot para ilustrar la relación entre la tarifa de limpieza y el precio de la habitación y escribe el tipo de correlación que observas, si la hay.\n",
    "\n",
    "- Crea un gráfico de líneas para mostrar la cantidad total de listados para cada `Construction year`\n",
    "\n",
    "\n",
    "Si utiliza Python para este ejercicio, incluya el código en las celdas siguientes. Si utiliza cualquier otra herramienta, incluya capturas de pantalla de su trabajo."
   ]
  },
  {
   "cell_type": "code",
   "execution_count": null,
   "metadata": {},
   "outputs": [],
   "source": []
  },
  {
   "cell_type": "code",
   "execution_count": null,
   "metadata": {},
   "outputs": [],
   "source": []
  },
  {
   "cell_type": "markdown",
   "metadata": {},
   "source": [
    "## Tarea 5c: Visualización de datos (Cualquier herramienta)\n",
    "\n",
    "\n",
    "\n",
    "- Cree una visualización de datos de su elección utilizando una de las columnas de reviews de forma aislada o en combinación con otra columna.\n",
    "\n",
    "- Crea una visualización para comparar al menos dos variables diferentes entre hosts verificados y no verificados.\n",
    "\n",
    "\n",
    "Si utilizas Python para este ejercicio, incluye el código en las celdas de abajo. Si utilizas cualquier otra herramienta, incluye capturas de pantalla de tu trabajo."
   ]
  },
  {
   "cell_type": "code",
   "execution_count": null,
   "metadata": {},
   "outputs": [],
   "source": []
  },
  {
   "cell_type": "code",
   "execution_count": null,
   "metadata": {},
   "outputs": [],
   "source": []
  }
 ],
 "metadata": {
  "kernelspec": {
   "display_name": "Python 3",
   "language": "python",
   "name": "python3"
  },
  "language_info": {
   "codemirror_mode": {
    "name": "ipython",
    "version": 3
   },
   "file_extension": ".py",
   "mimetype": "text/x-python",
   "name": "python",
   "nbconvert_exporter": "python",
   "pygments_lexer": "ipython3",
   "version": "3.8.10"
  },
  "nteract": {
   "version": "0.28.0"
  },
  "toc": {
   "base_numbering": 1,
   "nav_menu": {},
   "number_sections": false,
   "sideBar": true,
   "skip_h1_title": true,
   "title_cell": "Table of Contents",
   "title_sidebar": "Contents",
   "toc_cell": false,
   "toc_position": {},
   "toc_section_display": true,
   "toc_window_display": true
  }
 },
 "nbformat": 4,
 "nbformat_minor": 5
}
